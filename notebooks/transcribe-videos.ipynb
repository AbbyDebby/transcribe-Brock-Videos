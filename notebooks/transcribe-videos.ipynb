{
 "cells": [
  {
   "cell_type": "code",
   "execution_count": 1,
   "metadata": {},
   "outputs": [],
   "source": [
    "from moviepy.editor import VideoFileClip"
   ]
  },
  {
   "cell_type": "code",
   "execution_count": 4,
   "metadata": {},
   "outputs": [
    {
     "name": "stdout",
     "output_type": "stream",
     "text": [
      "MoviePy - Writing audio in C:\\Users\\AbigailWoolley\\Brock\\Brock-Workspace\\audio\\audio1.wav\n"
     ]
    },
    {
     "name": "stderr",
     "output_type": "stream",
     "text": [
      "                                                                        "
     ]
    },
    {
     "name": "stdout",
     "output_type": "stream",
     "text": [
      "MoviePy - Done.\n"
     ]
    },
    {
     "name": "stderr",
     "output_type": "stream",
     "text": [
      "\r"
     ]
    }
   ],
   "source": [
    "def extract_audio(video_path, audio_output):\n",
    "    \"\"\"\n",
    "    Extracts audio from a video file.\n",
    "    \n",
    "    Args:\n",
    "    - video_path (str): Path to the video file.\n",
    "    - audio_output (str): Path where the extracted audio will be saved.\n",
    "    \"\"\"\n",
    "    video = VideoFileClip(video_path)\n",
    "    video.audio.write_audiofile(audio_output)\n",
    "\n",
    "extract_audio(r\"C:\\Users\\AbigailWoolley\\Brock\\Brock-Workspace\\videos\\video1.mp4\", \n",
    "              r\"C:\\Users\\AbigailWoolley\\Brock\\Brock-Workspace\\audio\\audio1.wav\")\n",
    "\n"
   ]
  },
  {
   "cell_type": "code",
   "execution_count": null,
   "metadata": {},
   "outputs": [
    {
     "name": "stdout",
     "output_type": "stream",
     "text": [
      "Name: moviepy\n",
      "Version: 2.1.1\n",
      "Summary: Video editing with Python\n",
      "Home-page: \n",
      "Author: Zulko 2024\n",
      "Author-email: \n",
      "License: MIT License\n",
      "Location: C:\\Users\\AbigailWoolley\\Brock\\Brock-Workspace\\BrockGroup\\Lib\\site-packages\n",
      "Requires: decorator, imageio, imageio_ffmpeg, numpy, pillow, proglog, python-dotenv\n",
      "Required-by: \n"
     ]
    }
   ],
   "source": []
  },
  {
   "cell_type": "code",
   "execution_count": null,
   "metadata": {},
   "outputs": [],
   "source": []
  }
 ],
 "metadata": {
  "kernelspec": {
   "display_name": "BrockGroup",
   "language": "python",
   "name": "python3"
  },
  "language_info": {
   "codemirror_mode": {
    "name": "ipython",
    "version": 3
   },
   "file_extension": ".py",
   "mimetype": "text/x-python",
   "name": "python",
   "nbconvert_exporter": "python",
   "pygments_lexer": "ipython3",
   "version": "3.13.0"
  }
 },
 "nbformat": 4,
 "nbformat_minor": 2
}
